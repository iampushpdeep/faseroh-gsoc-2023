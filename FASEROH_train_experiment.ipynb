{
  "nbformat": 4,
  "nbformat_minor": 0,
  "metadata": {
    "colab": {
      "provenance": [],
      "gpuType": "T4",
      "include_colab_link": true
    },
    "kernelspec": {
      "name": "python3",
      "display_name": "Python 3"
    },
    "language_info": {
      "name": "python"
    },
    "accelerator": "GPU"
  },
  "cells": [
    {
      "cell_type": "markdown",
      "metadata": {
        "id": "view-in-github",
        "colab_type": "text"
      },
      "source": [
        "<a href=\"https://colab.research.google.com/github/iampushpdeep/faseroh-gsoc-2023/blob/main/FASEROH_train_experiment.ipynb\" target=\"_parent\"><img src=\"https://colab.research.google.com/assets/colab-badge.svg\" alt=\"Open In Colab\"/></a>"
      ]
    },
    {
      "cell_type": "code",
      "source": [
        "from google.colab import drive\n",
        "drive.mount('/content/drive')"
      ],
      "metadata": {
        "colab": {
          "base_uri": "https://localhost:8080/"
        },
        "id": "HgQd1LYKRc1E",
        "outputId": "089e4d9d-d18e-469f-f88f-d0993144c090"
      },
      "execution_count": 1,
      "outputs": [
        {
          "output_type": "stream",
          "name": "stdout",
          "text": [
            "Mounted at /content/drive\n"
          ]
        }
      ]
    },
    {
      "cell_type": "code",
      "source": [
        "cd drive/MyDrive/faseroh-gsoc-2023"
      ],
      "metadata": {
        "colab": {
          "base_uri": "https://localhost:8080/"
        },
        "id": "H1LZo00GRmCn",
        "outputId": "28e8cf88-63a9-4b83-bb8c-9b8104012c86"
      },
      "execution_count": 4,
      "outputs": [
        {
          "output_type": "stream",
          "name": "stdout",
          "text": [
            "/content/drive/.shortcut-targets-by-id/1Auu_6LBxNXMwElCVaNL3TeZqfc9K9vhb/faseroh-gsoc-2023\n"
          ]
        }
      ]
    },
    {
      "cell_type": "code",
      "source": [
        "ls"
      ],
      "metadata": {
        "colab": {
          "base_uri": "https://localhost:8080/"
        },
        "id": "g07YsPJJRrpU",
        "outputId": "cd158f88-8afa-4c2e-9b4c-a75d7f345e2a"
      },
      "execution_count": 5,
      "outputs": [
        {
          "output_type": "stream",
          "name": "stdout",
          "text": [
            "\u001b[0m\u001b[01;34mconfigs\u001b[0m/  \u001b[01;34mfaseroh\u001b[0m/  \u001b[01;34mgeneral1\u001b[0m/  README.md         \u001b[01;34mwandb\u001b[0m/\n",
            "env.yml   \u001b[01;34mgeneral\u001b[0m/  \u001b[01;34mNone\u001b[0m/      requirements.txt\n"
          ]
        }
      ]
    },
    {
      "cell_type": "code",
      "source": [
        "cd .."
      ],
      "metadata": {
        "colab": {
          "base_uri": "https://localhost:8080/"
        },
        "id": "MECnyn4NemHZ",
        "outputId": "85432ab0-1733-44f5-b95f-82bf4575b50a"
      },
      "execution_count": 6,
      "outputs": [
        {
          "output_type": "stream",
          "name": "stdout",
          "text": [
            "/content/drive/.shortcut-targets-by-id/1Auu_6LBxNXMwElCVaNL3TeZqfc9K9vhb\n"
          ]
        }
      ]
    },
    {
      "cell_type": "code",
      "source": [
        "!pip install -r faseroh-gsoc-2023/requirements.txt"
      ],
      "metadata": {
        "id": "BClzwgnhRyyQ"
      },
      "execution_count": null,
      "outputs": []
    },
    {
      "cell_type": "code",
      "source": [
        "cd faseroh-gsoc-2023"
      ],
      "metadata": {
        "colab": {
          "base_uri": "https://localhost:8080/"
        },
        "id": "d_TfZJTYh8OW",
        "outputId": "208ee771-f101-461f-9d67-7de454f2ec66"
      },
      "execution_count": 8,
      "outputs": [
        {
          "output_type": "stream",
          "name": "stdout",
          "text": [
            "/content/drive/.shortcut-targets-by-id/1Auu_6LBxNXMwElCVaNL3TeZqfc9K9vhb/faseroh-gsoc-2023\n"
          ]
        }
      ]
    },
    {
      "cell_type": "code",
      "source": [
        "!pip install aclick==0.2.0"
      ],
      "metadata": {
        "colab": {
          "base_uri": "https://localhost:8080/"
        },
        "id": "mA8t6Ka_i-N8",
        "outputId": "5d8778fc-99ff-4f5c-b194-2012a1f2b108"
      },
      "execution_count": 9,
      "outputs": [
        {
          "output_type": "stream",
          "name": "stdout",
          "text": [
            "Requirement already satisfied: aclick==0.2.0 in /usr/local/lib/python3.10/dist-packages (0.2.0)\n",
            "Requirement already satisfied: click>=8.0.3 in /usr/local/lib/python3.10/dist-packages (from aclick==0.2.0) (8.1.7)\n",
            "Requirement already satisfied: docstring-parser>=0.14.1 in /usr/local/lib/python3.10/dist-packages (from aclick==0.2.0) (0.15)\n"
          ]
        }
      ]
    },
    {
      "cell_type": "code",
      "source": [
        "!pip install tf-models-official"
      ],
      "metadata": {
        "id": "wgLS1ix4jHsc"
      },
      "execution_count": null,
      "outputs": []
    },
    {
      "cell_type": "code",
      "source": [
        "!pip install wandb"
      ],
      "metadata": {
        "colab": {
          "base_uri": "https://localhost:8080/"
        },
        "id": "X3h5s_WokHcc",
        "outputId": "fd6c9a2e-7577-4e2e-e03d-f59e6d2249e7"
      },
      "execution_count": 11,
      "outputs": [
        {
          "output_type": "stream",
          "name": "stdout",
          "text": [
            "Requirement already satisfied: wandb in /usr/local/lib/python3.10/dist-packages (0.15.11)\n",
            "Requirement already satisfied: Click!=8.0.0,>=7.1 in /usr/local/lib/python3.10/dist-packages (from wandb) (8.1.7)\n",
            "Requirement already satisfied: GitPython!=3.1.29,>=1.0.0 in /usr/local/lib/python3.10/dist-packages (from wandb) (3.1.37)\n",
            "Requirement already satisfied: requests<3,>=2.0.0 in /usr/local/lib/python3.10/dist-packages (from wandb) (2.31.0)\n",
            "Requirement already satisfied: psutil>=5.0.0 in /usr/local/lib/python3.10/dist-packages (from wandb) (5.9.5)\n",
            "Requirement already satisfied: sentry-sdk>=1.0.0 in /usr/local/lib/python3.10/dist-packages (from wandb) (1.31.0)\n",
            "Requirement already satisfied: docker-pycreds>=0.4.0 in /usr/local/lib/python3.10/dist-packages (from wandb) (0.4.0)\n",
            "Requirement already satisfied: PyYAML in /usr/local/lib/python3.10/dist-packages (from wandb) (6.0.1)\n",
            "Requirement already satisfied: pathtools in /usr/local/lib/python3.10/dist-packages (from wandb) (0.1.2)\n",
            "Requirement already satisfied: setproctitle in /usr/local/lib/python3.10/dist-packages (from wandb) (1.3.2)\n",
            "Requirement already satisfied: setuptools in /usr/local/lib/python3.10/dist-packages (from wandb) (67.7.2)\n",
            "Requirement already satisfied: appdirs>=1.4.3 in /usr/local/lib/python3.10/dist-packages (from wandb) (1.4.4)\n",
            "Requirement already satisfied: protobuf!=4.21.0,<5,>=3.19.0 in /usr/local/lib/python3.10/dist-packages (from wandb) (3.20.3)\n",
            "Requirement already satisfied: six>=1.4.0 in /usr/local/lib/python3.10/dist-packages (from docker-pycreds>=0.4.0->wandb) (1.16.0)\n",
            "Requirement already satisfied: gitdb<5,>=4.0.1 in /usr/local/lib/python3.10/dist-packages (from GitPython!=3.1.29,>=1.0.0->wandb) (4.0.10)\n",
            "Requirement already satisfied: charset-normalizer<4,>=2 in /usr/local/lib/python3.10/dist-packages (from requests<3,>=2.0.0->wandb) (3.2.0)\n",
            "Requirement already satisfied: idna<4,>=2.5 in /usr/local/lib/python3.10/dist-packages (from requests<3,>=2.0.0->wandb) (3.4)\n",
            "Requirement already satisfied: urllib3<3,>=1.21.1 in /usr/local/lib/python3.10/dist-packages (from requests<3,>=2.0.0->wandb) (2.0.4)\n",
            "Requirement already satisfied: certifi>=2017.4.17 in /usr/local/lib/python3.10/dist-packages (from requests<3,>=2.0.0->wandb) (2023.7.22)\n",
            "Requirement already satisfied: smmap<6,>=3.0.1 in /usr/local/lib/python3.10/dist-packages (from gitdb<5,>=4.0.1->GitPython!=3.1.29,>=1.0.0->wandb) (5.0.1)\n"
          ]
        }
      ]
    },
    {
      "cell_type": "code",
      "source": [
        "!python -m faseroh train \\\n",
        "    --config configs/univariate.json \\\n",
        "    --dataset-path general/train \\\n",
        "    --dataset-valid-path general/valid\n",
        "#demonstrating a simpler version (takes a while to train)"
      ],
      "metadata": {
        "id": "N57cO3EFi9GG",
        "colab": {
          "base_uri": "https://localhost:8080/"
        },
        "outputId": "93c1ae9d-04d7-4ac6-aaab-bc5d47b9d15e"
      },
      "execution_count": 12,
      "outputs": [
        {
          "output_type": "stream",
          "name": "stdout",
          "text": [
            "2023-09-24 20:31:47.967914: I tensorflow/core/platform/cpu_feature_guard.cc:182] This TensorFlow binary is optimized to use available CPU instructions in performance-critical operations.\n",
            "To enable the following instructions: AVX2 FMA, in other operations, rebuild TensorFlow with the appropriate compiler flags.\n",
            "2023-09-24 20:31:49.287844: W tensorflow/compiler/tf2tensorrt/utils/py_utils.cc:38] TF-TRT Warning: Could not find TensorRT\n",
            "2023-09-24 20:31:54.970653: I tensorflow/compiler/xla/stream_executor/cuda/cuda_gpu_executor.cc:995] successful NUMA node read from SysFS had negative value (-1), but there must be at least one NUMA node, so returning NUMA node zero. See more at https://github.com/torvalds/linux/blob/v6.0/Documentation/ABI/testing/sysfs-bus-pci#L344-L355\n",
            "2023-09-24 20:31:55.056110: I tensorflow/compiler/xla/stream_executor/cuda/cuda_gpu_executor.cc:995] successful NUMA node read from SysFS had negative value (-1), but there must be at least one NUMA node, so returning NUMA node zero. See more at https://github.com/torvalds/linux/blob/v6.0/Documentation/ABI/testing/sysfs-bus-pci#L344-L355\n",
            "2023-09-24 20:31:55.056685: I tensorflow/compiler/xla/stream_executor/cuda/cuda_gpu_executor.cc:995] successful NUMA node read from SysFS had negative value (-1), but there must be at least one NUMA node, so returning NUMA node zero. See more at https://github.com/torvalds/linux/blob/v6.0/Documentation/ABI/testing/sysfs-bus-pci#L344-L355\n",
            "2023-09-24 20:31:55.057971: I tensorflow/compiler/xla/stream_executor/cuda/cuda_gpu_executor.cc:995] successful NUMA node read from SysFS had negative value (-1), but there must be at least one NUMA node, so returning NUMA node zero. See more at https://github.com/torvalds/linux/blob/v6.0/Documentation/ABI/testing/sysfs-bus-pci#L344-L355\n",
            "2023-09-24 20:31:55.058284: I tensorflow/compiler/xla/stream_executor/cuda/cuda_gpu_executor.cc:995] successful NUMA node read from SysFS had negative value (-1), but there must be at least one NUMA node, so returning NUMA node zero. See more at https://github.com/torvalds/linux/blob/v6.0/Documentation/ABI/testing/sysfs-bus-pci#L344-L355\n",
            "2023-09-24 20:31:55.058729: I tensorflow/compiler/xla/stream_executor/cuda/cuda_gpu_executor.cc:995] successful NUMA node read from SysFS had negative value (-1), but there must be at least one NUMA node, so returning NUMA node zero. See more at https://github.com/torvalds/linux/blob/v6.0/Documentation/ABI/testing/sysfs-bus-pci#L344-L355\n",
            "2023-09-24 20:31:57.482858: I tensorflow/compiler/xla/stream_executor/cuda/cuda_gpu_executor.cc:995] successful NUMA node read from SysFS had negative value (-1), but there must be at least one NUMA node, so returning NUMA node zero. See more at https://github.com/torvalds/linux/blob/v6.0/Documentation/ABI/testing/sysfs-bus-pci#L344-L355\n",
            "2023-09-24 20:31:57.483321: I tensorflow/compiler/xla/stream_executor/cuda/cuda_gpu_executor.cc:995] successful NUMA node read from SysFS had negative value (-1), but there must be at least one NUMA node, so returning NUMA node zero. See more at https://github.com/torvalds/linux/blob/v6.0/Documentation/ABI/testing/sysfs-bus-pci#L344-L355\n",
            "2023-09-24 20:31:57.483641: I tensorflow/compiler/xla/stream_executor/cuda/cuda_gpu_executor.cc:995] successful NUMA node read from SysFS had negative value (-1), but there must be at least one NUMA node, so returning NUMA node zero. See more at https://github.com/torvalds/linux/blob/v6.0/Documentation/ABI/testing/sysfs-bus-pci#L344-L355\n",
            "2023-09-24 20:31:57.483843: W tensorflow/core/common_runtime/gpu/gpu_bfc_allocator.cc:47] Overriding orig_value setting because the TF_FORCE_GPU_ALLOW_GROWTH environment variable is set. Original config value was 0.\n",
            "2023-09-24 20:31:57.483893: I tensorflow/core/common_runtime/gpu/gpu_device.cc:1639] Created device /job:localhost/replica:0/task:0/device:GPU:0 with 13692 MB memory:  -> device: 0, name: Tesla T4, pci bus id: 0000:00:04.0, compute capability: 7.5\n",
            "Tensor(\"inputs:0\", shape=(None, 200), dtype=float32)\n",
            "Tensor(\"encoder/positional_embedding/mul:0\", shape=(None, 200, 384), dtype=float32)\n",
            "Tensor(\"inputs:0\", shape=(None, 200), dtype=float32)\n",
            "Tensor(\"encoder/positional_embedding/mul:0\", shape=(None, 200, 384), dtype=float32)\n",
            "WARNING:tensorflow:From /content/drive/.shortcut-targets-by-id/1Auu_6LBxNXMwElCVaNL3TeZqfc9K9vhb/faseroh-gsoc-2023/faseroh/training/datasets.py:185: load (from tensorflow.python.data.experimental.ops.io) is deprecated and will be removed in a future version.\n",
            "Instructions for updating:\n",
            "Use `tf.data.Dataset.load(...)` instead.\n",
            "[libprotobuf ERROR external/com_google_protobuf/src/google/protobuf/text_format.cc:337] Error parsing text-format tensorflow.data.experimental.DistributedSnapshotMetadata: 1:1: Invalid control characters encountered in text.\n",
            "[libprotobuf ERROR external/com_google_protobuf/src/google/protobuf/text_format.cc:337] Error parsing text-format tensorflow.data.experimental.DistributedSnapshotMetadata: 1:3: Expected identifier, got: 3660569962087810533\n",
            "[libprotobuf ERROR external/com_google_protobuf/src/google/protobuf/text_format.cc:337] Error parsing text-format tensorflow.data.experimental.DistributedSnapshotMetadata: 1:1: Invalid control characters encountered in text.\n",
            "[libprotobuf ERROR external/com_google_protobuf/src/google/protobuf/text_format.cc:337] Error parsing text-format tensorflow.data.experimental.DistributedSnapshotMetadata: 1:3: Expected identifier, got: 10215092384959447958\n",
            "[libprotobuf ERROR external/com_google_protobuf/src/google/protobuf/text_format.cc:337] Error parsing text-format tensorflow.data.experimental.DistributedSnapshotMetadata: 1:1: Invalid control characters encountered in text.\n",
            "[libprotobuf ERROR external/com_google_protobuf/src/google/protobuf/text_format.cc:337] Error parsing text-format tensorflow.data.experimental.DistributedSnapshotMetadata: 1:3: Expected identifier, got: 13046874982869800960\n",
            "[libprotobuf ERROR external/com_google_protobuf/src/google/protobuf/text_format.cc:337] Error parsing text-format tensorflow.data.experimental.DistributedSnapshotMetadata: 1:1: Invalid control characters encountered in text.\n",
            "[libprotobuf ERROR external/com_google_protobuf/src/google/protobuf/text_format.cc:337] Error parsing text-format tensorflow.data.experimental.DistributedSnapshotMetadata: 1:3: Expected identifier, got: 11838665308961107604\n",
            "[libprotobuf ERROR external/com_google_protobuf/src/google/protobuf/text_format.cc:337] Error parsing text-format tensorflow.data.experimental.DistributedSnapshotMetadata: 1:1: Invalid control characters encountered in text.\n",
            "[libprotobuf ERROR external/com_google_protobuf/src/google/protobuf/text_format.cc:337] Error parsing text-format tensorflow.data.experimental.DistributedSnapshotMetadata: 1:3: Expected identifier, got: 9746475511510863120\n",
            "[libprotobuf ERROR external/com_google_protobuf/src/google/protobuf/text_format.cc:337] Error parsing text-format tensorflow.data.experimental.DistributedSnapshotMetadata: 1:1: Invalid control characters encountered in text.\n",
            "[libprotobuf ERROR external/com_google_protobuf/src/google/protobuf/text_format.cc:337] Error parsing text-format tensorflow.data.experimental.DistributedSnapshotMetadata: 1:3: Expected identifier, got: 4350141224644985953\n",
            "\u001b[34m\u001b[1mwandb\u001b[0m: (1) Create a W&B account\n",
            "\u001b[34m\u001b[1mwandb\u001b[0m: (2) Use an existing W&B account\n",
            "\u001b[34m\u001b[1mwandb\u001b[0m: (3) Don't visualize my results\n",
            "\u001b[34m\u001b[1mwandb\u001b[0m: Enter your choice: 2\n",
            "\u001b[34m\u001b[1mwandb\u001b[0m: You chose 'Use an existing W&B account'\n",
            "\u001b[34m\u001b[1mwandb\u001b[0m: Logging into wandb.ai. (Learn how to deploy a W&B server locally: https://wandb.me/wandb-server)\n",
            "\u001b[34m\u001b[1mwandb\u001b[0m: You can find your API key in your browser here: https://wandb.ai/authorize\n",
            "\u001b[34m\u001b[1mwandb\u001b[0m: Paste an API key from your profile and hit enter, or press ctrl+c to quit: \n",
            "\u001b[34m\u001b[1mwandb\u001b[0m: Appending key for api.wandb.ai to your netrc file: /root/.netrc\n",
            "\u001b[34m\u001b[1mwandb\u001b[0m: Tracking run with wandb version 0.15.11\n",
            "\u001b[34m\u001b[1mwandb\u001b[0m: Run data is saved locally in \u001b[35m\u001b[1m/content/drive/.shortcut-targets-by-id/1Auu_6LBxNXMwElCVaNL3TeZqfc9K9vhb/faseroh-gsoc-2023/wandb/run-20230924_203216-3c80mbe7\u001b[0m\n",
            "\u001b[34m\u001b[1mwandb\u001b[0m: Run \u001b[1m`wandb offline`\u001b[0m to turn off syncing.\n",
            "\u001b[34m\u001b[1mwandb\u001b[0m: Syncing run \u001b[33mazure-firebrand-11\u001b[0m\n",
            "\u001b[34m\u001b[1mwandb\u001b[0m: ⭐️ View project at \u001b[34m\u001b[4mhttps://wandb.ai/pushpdeep/symbolic-pred\u001b[0m\n",
            "\u001b[34m\u001b[1mwandb\u001b[0m: 🚀 View run at \u001b[34m\u001b[4mhttps://wandb.ai/pushpdeep/symbolic-pred/runs/3c80mbe7\u001b[0m\n",
            "2023-09-24 20:32:16.991355: I tensorflow/tsl/profiler/lib/profiler_session.cc:104] Profiler session initializing.\n",
            "2023-09-24 20:32:16.991397: I tensorflow/tsl/profiler/lib/profiler_session.cc:119] Profiler session started.\n",
            "2023-09-24 20:32:16.991865: I tensorflow/compiler/xla/backends/profiler/gpu/cupti_tracer.cc:1671] Profiler found 1 GPUs\n",
            "2023-09-24 20:32:17.248371: I tensorflow/tsl/profiler/lib/profiler_session.cc:131] Profiler session tear down.\n",
            "2023-09-24 20:32:17.248651: I tensorflow/compiler/xla/backends/profiler/gpu/cupti_tracer.cc:1805] CUPTI activity buffer flushed\n",
            "Model: \"transformer_with_regression_as_seq\"\n",
            "_________________________________________________________________\n",
            " Layer (type)                Output Shape              Param #   \n",
            "=================================================================\n",
            " encoder (Encoder)           multiple                  8266240   \n",
            "                                                                 \n",
            " decoder_with_regression_as  multiple                  9679744   \n",
            " _seq (DecoderWithRegressio                                      \n",
            " nAsSeq)                                                         \n",
            "                                                                 \n",
            " dense_25 (Dense)            multiple                  31158     \n",
            "                                                                 \n",
            " sequential_5 (Sequential)   (None, None, 1)           41153     \n",
            "|¯¯¯¯¯¯¯¯¯¯¯¯¯¯¯¯¯¯¯¯¯¯¯¯¯¯¯¯¯¯¯¯¯¯¯¯¯¯¯¯¯¯¯¯¯¯¯¯¯¯¯¯¯¯¯¯¯¯¯¯¯¯¯|\n",
            "| dense_26 (Dense)           (None, None, 64)          36928    |\n",
            "|                                                               |\n",
            "| dense_27 (Dense)           (None, None, 64)          4160     |\n",
            "|                                                               |\n",
            "| dense_28 (Dense)           (None, None, 1)           65       |\n",
            "¯¯¯¯¯¯¯¯¯¯¯¯¯¯¯¯¯¯¯¯¯¯¯¯¯¯¯¯¯¯¯¯¯¯¯¯¯¯¯¯¯¯¯¯¯¯¯¯¯¯¯¯¯¯¯¯¯¯¯¯¯¯¯¯¯\n",
            "=================================================================\n",
            "Total params: 18018316 (68.73 MB)\n",
            "Trainable params: 18018295 (68.73 MB)\n",
            "Non-trainable params: 21 (84.00 Byte)\n",
            "_________________________________________________________________\n",
            "Epoch 1/50\n",
            "0\n",
            "Tensor(\"inputs:0\", shape=(None, 200), dtype=float32)\n",
            "Tensor(\"encoder/positional_embedding/mul:0\", shape=(None, 200, 384), dtype=float32)\n",
            "2023-09-24 20:32:40.512675: I tensorflow/core/kernels/data/shuffle_dataset_op.cc:422] Filling up shuffle buffer (this may take a while): 13186 of 50000\n",
            "2023-09-24 20:32:50.512604: I tensorflow/core/kernels/data/shuffle_dataset_op.cc:422] Filling up shuffle buffer (this may take a while): 31408 of 50000\n",
            "2023-09-24 20:32:51.274784: I tensorflow/core/kernels/data/shuffle_dataset_op.cc:450] Shuffle buffer filled.\n",
            "2023-09-24 20:32:55.015493: I tensorflow/compiler/xla/stream_executor/cuda/cuda_dnn.cc:432] Loaded cuDNN version 8900\n",
            "2023-09-24 20:32:55.537463: I tensorflow/compiler/xla/service/service.cc:168] XLA service 0x7a625527f870 initialized for platform CUDA (this does not guarantee that XLA will be used). Devices:\n",
            "2023-09-24 20:32:55.537505: I tensorflow/compiler/xla/service/service.cc:176]   StreamExecutor device (0): Tesla T4, Compute Capability 7.5\n",
            "2023-09-24 20:32:55.714161: I tensorflow/compiler/mlir/tensorflow/utils/dump_mlir_util.cc:255] disabling MLIR crash reproducer, set env var `MLIR_CRASH_REPRODUCER_DIRECTORY` to enable.\n",
            "2023-09-24 20:32:56.440975: I ./tensorflow/compiler/jit/device_compiler.h:186] Compiled cluster using XLA!  This line is logged at most once for the lifetime of the process.\n",
            "  100/20000 [..............................] - ETA: 2:07:54 - loss: 4.5690 - classification_loss: 3.9243 - accuracy: 0.0473 - hard_accuracy: 2.0000e-04 - mse_loss: 0.7136 - mse_loss_hard: 1.2749e-06 - mae_loss: 0.7149 - mae_loss_hard: 1.3307e-05 - regression_loss: 0.7136 - regression_loss_hard: 1.2749e-063.99401415e-06\n",
            "  200/20000 [..............................] - ETA: 1:49:11 - loss: 4.0781 - classification_loss: 3.3508 - accuracy: 0.1255 - hard_accuracy: 5.0000e-04 - mse_loss: 0.7092 - mse_loss_hard: 8.3542e-05 - mae_loss: 0.7114 - mae_loss_hard: 1.2668e-04 - regression_loss: 0.7092 - regression_loss_hard: 8.3542e-058.02837167e-06\n",
            "  299/20000 [..............................] - ETA: 1:42:25 - loss: 3.7901 - classification_loss: 3.0925 - accuracy: 0.1756 - hard_accuracy: 6.0201e-04 - mse_loss: 0.7365 - mse_loss_hard: 8.2054e-05 - mae_loss: 0.7269 - mae_loss_hard: 1.3532e-04 - regression_loss: 0.7365 - regression_loss_hard: 8.2054e-052023-09-24 20:34:40.473460: I tensorflow/tsl/profiler/lib/profiler_session.cc:104] Profiler session initializing.\n",
            "2023-09-24 20:34:40.474835: I tensorflow/tsl/profiler/lib/profiler_session.cc:119] Profiler session started.\n",
            "  300/20000 [..............................] - ETA: 1:42:53 - loss: 3.7877 - classification_loss: 3.0904 - accuracy: 0.1760 - hard_accuracy: 6.0000e-04 - mse_loss: 0.7370 - mse_loss_hard: 8.1780e-05 - mae_loss: 0.7272 - mae_loss_hard: 1.3487e-04 - regression_loss: 0.7370 - regression_loss_hard: 8.1780e-051.20627292e-05\n",
            "  304/20000 [..............................] - ETA: 1:42:42 - loss: 3.7785 - classification_loss: 3.0824 - accuracy: 0.1776 - hard_accuracy: 5.9211e-04 - mse_loss: 0.7382 - mse_loss_hard: 8.0704e-05 - mae_loss: 0.7279 - mae_loss_hard: 1.3310e-04 - regression_loss: 0.7382 - regression_loss_hard: 8.0704e-052023-09-24 20:34:42.582933: I tensorflow/tsl/profiler/lib/profiler_session.cc:70] Profiler session collecting data.\n",
            "2023-09-24 20:34:42.655141: I tensorflow/compiler/xla/backends/profiler/gpu/cupti_tracer.cc:1805] CUPTI activity buffer flushed\n",
            "2023-09-24 20:34:42.830801: I tensorflow/compiler/xla/backends/profiler/gpu/cupti_collector.cc:541]  GpuTracer has collected 9069 callback api events and 9052 activity events. \n",
            "2023-09-24 20:34:42.954482: I tensorflow/tsl/profiler/lib/profiler_session.cc:131] Profiler session tear down.\n",
            "  400/20000 [..............................] - ETA: 1:39:56 - loss: 3.5914 - classification_loss: 2.9256 - accuracy: 0.2110 - hard_accuracy: 9.0000e-04 - mse_loss: 0.7634 - mse_loss_hard: 4.2785e-04 - mae_loss: 0.7428 - mae_loss_hard: 3.7045e-04 - regression_loss: 0.7634 - regression_loss_hard: 4.2785e-041.60970867e-05\n",
            "  500/20000 [..............................] - ETA: 1:37:45 - loss: 3.4459 - classification_loss: 2.8090 - accuracy: 0.2375 - hard_accuracy: 0.0019 - mse_loss: 0.7796 - mse_loss_hard: 0.0013 - mae_loss: 0.7524 - mae_loss_hard: 0.0011 - regression_loss: 0.7796 - regression_loss_hard: 0.00132.01314433e-05\n",
            "  600/20000 [..............................] - ETA: 1:35:46 - loss: 3.3321 - classification_loss: 2.7218 - accuracy: 0.2587 - hard_accuracy: 0.0026 - mse_loss: 0.7931 - mse_loss_hard: 0.0020 - mae_loss: 0.7605 - mae_loss_hard: 0.0016 - regression_loss: 0.7931 - regression_loss_hard: 0.00202.41658017e-05\n",
            "  658/20000 [..............................] - ETA: 1:34:48 - loss: 3.2763 - classification_loss: 2.6781 - accuracy: 0.2692 - hard_accuracy: 0.0033 - mse_loss: 0.7989 - mse_loss_hard: 0.0024 - mae_loss: 0.7641 - mae_loss_hard: 0.0020 - regression_loss: 0.7989 - regression_loss_hard: 0.00242023-09-24 20:36:29.743047: I tensorflow/core/kernels/data/shuffle_dataset_op.cc:422] Filling up shuffle buffer (this may take a while): 13015 of 50000\n",
            "2023-09-24 20:36:39.743363: I tensorflow/core/kernels/data/shuffle_dataset_op.cc:422] Filling up shuffle buffer (this may take a while): 30866 of 50000\n",
            "2023-09-24 20:36:41.678728: I tensorflow/core/kernels/data/shuffle_dataset_op.cc:450] Shuffle buffer filled.\n",
            "  700/20000 [>.............................] - ETA: 1:43:47 - loss: 3.2397 - classification_loss: 2.6529 - accuracy: 0.2762 - hard_accuracy: 0.0034 - mse_loss: 0.8047 - mse_loss_hard: 0.0025 - mae_loss: 0.7676 - mae_loss_hard: 0.0021 - regression_loss: 0.8047 - regression_loss_hard: 0.00252.82001583e-05\n",
            "  800/20000 [>.............................] - ETA: 1:41:24 - loss: 3.1626 - classification_loss: 2.5968 - accuracy: 0.2911 - hard_accuracy: 0.0045 - mse_loss: 0.8279 - mse_loss_hard: 0.0037 - mae_loss: 0.7818 - mae_loss_hard: 0.0028 - regression_loss: 0.8279 - regression_loss_hard: 0.00373.22345149e-05\n",
            "  900/20000 [>.............................] - ETA: 1:39:28 - loss: 3.0969 - classification_loss: 2.5479 - accuracy: 0.3041 - hard_accuracy: 0.0049 - mse_loss: 0.8508 - mse_loss_hard: 0.0044 - mae_loss: 0.7954 - mae_loss_hard: 0.0034 - regression_loss: 0.8508 - regression_loss_hard: 0.00443.62688734e-05\n",
            " 1000/20000 [>.............................] - ETA: 1:37:58 - loss: 3.0399 - classification_loss: 2.5065 - accuracy: 0.3155 - hard_accuracy: 0.0055 - mse_loss: 0.8676 - mse_loss_hard: 0.0050 - mae_loss: 0.8052 - mae_loss_hard: 0.0038 - regression_loss: 0.8676 - regression_loss_hard: 0.00504.03032318e-05\n",
            " 1100/20000 [>.............................] - ETA: 1:36:29 - loss: 2.9897 - classification_loss: 2.4704 - accuracy: 0.3257 - hard_accuracy: 0.0060 - mse_loss: 0.8792 - mse_loss_hard: 0.0055 - mae_loss: 0.8122 - mae_loss_hard: 0.0042 - regression_loss: 0.8792 - regression_loss_hard: 0.00554.43375902e-05\n",
            " 1200/20000 [>.............................] - ETA: 1:35:12 - loss: 2.9450 - classification_loss: 2.4383 - accuracy: 0.3348 - hard_accuracy: 0.0065 - mse_loss: 0.8881 - mse_loss_hard: 0.0058 - mae_loss: 0.8176 - mae_loss_hard: 0.0044 - regression_loss: 0.8881 - regression_loss_hard: 0.00584.83719487e-05\n",
            " 1300/20000 [>.............................] - ETA: 1:34:02 - loss: 2.9049 - classification_loss: 2.4090 - accuracy: 0.3432 - hard_accuracy: 0.0070 - mse_loss: 0.9014 - mse_loss_hard: 0.0062 - mae_loss: 0.8255 - mae_loss_hard: 0.0047 - regression_loss: 0.9014 - regression_loss_hard: 0.00625.24063071e-05\n",
            " 1316/20000 [>.............................] - ETA: 1:33:50 - loss: 2.8988 - classification_loss: 2.4050 - accuracy: 0.3445 - hard_accuracy: 0.0071 - mse_loss: 0.9023 - mse_loss_hard: 0.0062 - mae_loss: 0.8261 - mae_loss_hard: 0.0048 - regression_loss: 0.9023 - regression_loss_hard: 0.00622023-09-24 20:39:52.267851: I tensorflow/core/kernels/data/shuffle_dataset_op.cc:422] Filling up shuffle buffer (this may take a while): 15811 of 50000\n",
            "2023-09-24 20:40:02.267930: I tensorflow/core/kernels/data/shuffle_dataset_op.cc:422] Filling up shuffle buffer (this may take a while): 31370 of 50000\n",
            "2023-09-24 20:40:03.070311: I tensorflow/core/kernels/data/shuffle_dataset_op.cc:450] Shuffle buffer filled.\n",
            " 1400/20000 [=>............................] - ETA: 1:37:15 - loss: 2.8685 - classification_loss: 2.3826 - accuracy: 0.3508 - hard_accuracy: 0.0076 - mse_loss: 0.9134 - mse_loss_hard: 0.0066 - mae_loss: 0.8327 - mae_loss_hard: 0.0051 - regression_loss: 0.9134 - regression_loss_hard: 0.00665.64406619e-05\n",
            " 1500/20000 [=>............................] - ETA: 1:36:03 - loss: 2.8353 - classification_loss: 2.3589 - accuracy: 0.3579 - hard_accuracy: 0.0081 - mse_loss: 0.9274 - mse_loss_hard: 0.0069 - mae_loss: 0.8411 - mae_loss_hard: 0.0053 - regression_loss: 0.9274 - regression_loss_hard: 0.00696.04750239e-05\n",
            " 1600/20000 [=>............................] - ETA: 1:34:52 - loss: 2.8048 - classification_loss: 2.3364 - accuracy: 0.3645 - hard_accuracy: 0.0086 - mse_loss: 0.9387 - mse_loss_hard: 0.0071 - mae_loss: 0.8475 - mae_loss_hard: 0.0055 - regression_loss: 0.9387 - regression_loss_hard: 0.00716.45093751e-05\n",
            " 1700/20000 [=>............................] - ETA: 1:33:48 - loss: 2.7767 - classification_loss: 2.3167 - accuracy: 0.3706 - hard_accuracy: 0.0094 - mse_loss: 0.9466 - mse_loss_hard: 0.0077 - mae_loss: 0.8523 - mae_loss_hard: 0.0059 - regression_loss: 0.9466 - regression_loss_hard: 0.00776.85437335e-05\n",
            " 1800/20000 [=>............................] - ETA: 1:32:51 - loss: 2.7506 - classification_loss: 2.2983 - accuracy: 0.3763 - hard_accuracy: 0.0100 - mse_loss: 0.9537 - mse_loss_hard: 0.0083 - mae_loss: 0.8568 - mae_loss_hard: 0.0063 - regression_loss: 0.9537 - regression_loss_hard: 0.00837.25780919e-05\n",
            " 1900/20000 [=>............................] - ETA: 1:31:52 - loss: 2.7263 - classification_loss: 2.2820 - accuracy: 0.3816 - hard_accuracy: 0.0106 - mse_loss: 0.9577 - mse_loss_hard: 0.0085 - mae_loss: 0.8595 - mae_loss_hard: 0.0065 - regression_loss: 0.9577 - regression_loss_hard: 0.00857.66124504e-05\n",
            " 1974/20000 [=>............................] - ETA: 1:31:20 - loss: 2.7095 - classification_loss: 2.2702 - accuracy: 0.3853 - hard_accuracy: 0.0111 - mse_loss: 0.9579 - mse_loss_hard: 0.0085 - mae_loss: 0.8599 - mae_loss_hard: 0.0066 - regression_loss: 0.9579 - regression_loss_hard: 0.00852023-09-24 20:43:13.707959: I tensorflow/core/kernels/data/shuffle_dataset_op.cc:422] Filling up shuffle buffer (this may take a while): 13268 of 50000\n",
            "2023-09-24 20:43:23.708135: I tensorflow/core/kernels/data/shuffle_dataset_op.cc:422] Filling up shuffle buffer (this may take a while): 28816 of 50000\n",
            "2023-09-24 20:43:26.355703: I tensorflow/core/kernels/data/shuffle_dataset_op.cc:450] Shuffle buffer filled.\n",
            " 2000/20000 [==>...........................] - ETA: 1:33:56 - loss: 2.7037 - classification_loss: 2.2659 - accuracy: 0.3866 - hard_accuracy: 0.0111 - mse_loss: 0.9572 - mse_loss_hard: 0.0085 - mae_loss: 0.8597 - mae_loss_hard: 0.0066 - regression_loss: 0.9572 - regression_loss_hard: 0.00858.06468e-05\n",
            " 2100/20000 [==>...........................] - ETA: 1:32:57 - loss: 2.6825 - classification_loss: 2.2510 - accuracy: 0.3913 - hard_accuracy: 0.0117 - mse_loss: 0.9545 - mse_loss_hard: 0.0087 - mae_loss: 0.8589 - mae_loss_hard: 0.0067 - regression_loss: 0.9545 - regression_loss_hard: 0.00878.46811672e-05\n",
            " 2200/20000 [==>...........................] - ETA: 1:32:01 - loss: 2.6626 - classification_loss: 2.2371 - accuracy: 0.3958 - hard_accuracy: 0.0122 - mse_loss: 0.9531 - mse_loss_hard: 0.0088 - mae_loss: 0.8586 - mae_loss_hard: 0.0068 - regression_loss: 0.9531 - regression_loss_hard: 0.00888.87155256e-05\n",
            " 2300/20000 [==>...........................] - ETA: 1:31:03 - loss: 2.6437 - classification_loss: 2.2236 - accuracy: 0.4000 - hard_accuracy: 0.0129 - mse_loss: 0.9511 - mse_loss_hard: 0.0090 - mae_loss: 0.8579 - mae_loss_hard: 0.0070 - regression_loss: 0.9511 - regression_loss_hard: 0.00909.27498841e-05\n",
            " 2400/20000 [==>...........................] - ETA: 1:30:12 - loss: 2.6260 - classification_loss: 2.2114 - accuracy: 0.4041 - hard_accuracy: 0.0134 - mse_loss: 0.9501 - mse_loss_hard: 0.0091 - mae_loss: 0.8578 - mae_loss_hard: 0.0072 - regression_loss: 0.9501 - regression_loss_hard: 0.00919.67842352e-05\n",
            " 2500/20000 [==>...........................] - ETA: 1:29:24 - loss: 2.6092 - classification_loss: 2.1997 - accuracy: 0.4079 - hard_accuracy: 0.0139 - mse_loss: 0.9476 - mse_loss_hard: 0.0092 - mae_loss: 0.8568 - mae_loss_hard: 0.0073 - regression_loss: 0.9476 - regression_loss_hard: 0.00920.000100818594\n",
            " 2600/20000 [==>...........................] - ETA: 1:28:34 - loss: 2.5932 - classification_loss: 2.1887 - accuracy: 0.4115 - hard_accuracy: 0.0144 - mse_loss: 0.9439 - mse_loss_hard: 0.0092 - mae_loss: 0.8551 - mae_loss_hard: 0.0073 - regression_loss: 0.9439 - regression_loss_hard: 0.00920.000104852952\n",
            " 2632/20000 [==>...........................] - ETA: 1:28:22 - loss: 2.5883 - classification_loss: 2.1855 - accuracy: 0.4126 - hard_accuracy: 0.0144 - mse_loss: 0.9417 - mse_loss_hard: 0.0091 - mae_loss: 0.8541 - mae_loss_hard: 0.0073 - regression_loss: 0.9417 - regression_loss_hard: 0.00912023-09-24 20:46:35.095276: I tensorflow/core/kernels/data/shuffle_dataset_op.cc:422] Filling up shuffle buffer (this may take a while): 11301 of 50000\n",
            "2023-09-24 20:46:45.094619: I tensorflow/core/kernels/data/shuffle_dataset_op.cc:422] Filling up shuffle buffer (this may take a while): 27870 of 50000\n",
            "2023-09-24 20:46:47.632089: I tensorflow/core/kernels/data/shuffle_dataset_op.cc:450] Shuffle buffer filled.\n",
            " 2700/20000 [===>..........................] - ETA: 1:29:37 - loss: 2.5780 - classification_loss: 2.1780 - accuracy: 0.4150 - hard_accuracy: 0.0148 - mse_loss: 0.9385 - mse_loss_hard: 0.0092 - mae_loss: 0.8526 - mae_loss_hard: 0.0074 - regression_loss: 0.9385 - regression_loss_hard: 0.00920.000108887318\n",
            " 2800/20000 [===>..........................] - ETA: 1:28:48 - loss: 2.5636 - classification_loss: 2.1682 - accuracy: 0.4183 - hard_accuracy: 0.0151 - mse_loss: 0.9323 - mse_loss_hard: 0.0092 - mae_loss: 0.8495 - mae_loss_hard: 0.0074 - regression_loss: 0.9323 - regression_loss_hard: 0.00920.000112921669\n",
            " 2900/20000 [===>..........................] - ETA: 1:28:00 - loss: 2.5497 - classification_loss: 2.1584 - accuracy: 0.4215 - hard_accuracy: 0.0156 - mse_loss: 0.9276 - mse_loss_hard: 0.0093 - mae_loss: 0.8472 - mae_loss_hard: 0.0076 - regression_loss: 0.9276 - regression_loss_hard: 0.00930.000116956027\n",
            " 3000/20000 [===>..........................] - ETA: 1:27:12 - loss: 2.5366 - classification_loss: 2.1495 - accuracy: 0.4246 - hard_accuracy: 0.0161 - mse_loss: 0.9231 - mse_loss_hard: 0.0093 - mae_loss: 0.8451 - mae_loss_hard: 0.0076 - regression_loss: 0.9231 - regression_loss_hard: 0.00930.000120990386\n",
            " 3100/20000 [===>..........................] - ETA: 1:26:24 - loss: 2.5239 - classification_loss: 2.1407 - accuracy: 0.4275 - hard_accuracy: 0.0166 - mse_loss: 0.9180 - mse_loss_hard: 0.0093 - mae_loss: 0.8425 - mae_loss_hard: 0.0077 - regression_loss: 0.9180 - regression_loss_hard: 0.00930.000125024744\n",
            " 3200/20000 [===>..........................] - ETA: 1:25:38 - loss: 2.5118 - classification_loss: 2.1320 - accuracy: 0.4303 - hard_accuracy: 0.0171 - mse_loss: 0.9118 - mse_loss_hard: 0.0094 - mae_loss: 0.8391 - mae_loss_hard: 0.0078 - regression_loss: 0.9118 - regression_loss_hard: 0.00940.000129059103\n",
            " 3289/20000 [===>..........................] - ETA: 1:25:01 - loss: 2.5014 - classification_loss: 2.1253 - accuracy: 0.4327 - hard_accuracy: 0.0176 - mse_loss: 0.9074 - mse_loss_hard: 0.0094 - mae_loss: 0.8368 - mae_loss_hard: 0.0078 - regression_loss: 0.9074 - regression_loss_hard: 0.00942023-09-24 20:49:51.435619: I tensorflow/core/kernels/data/shuffle_dataset_op.cc:422] Filling up shuffle buffer (this may take a while): 7899 of 50000\n",
            " 3290/20000 [===>..........................] - ETA: 1:25:00 - loss: 2.5013 - classification_loss: 2.1252 - accuracy: 0.4328 - hard_accuracy: 0.0176 - mse_loss: 0.9073 - mse_loss_hard: 0.0094 - mae_loss: 0.8368 - mae_loss_hard: 0.0078 - regression_loss: 0.9073 - regression_loss_hard: 0.00942023-09-24 20:50:01.435485: I tensorflow/core/kernels/data/shuffle_dataset_op.cc:422] Filling up shuffle buffer (this may take a while): 27029 of 50000\n",
            "2023-09-24 20:50:06.938992: I tensorflow/core/kernels/data/shuffle_dataset_op.cc:450] Shuffle buffer filled.\n",
            " 3300/20000 [===>..........................] - ETA: 1:26:14 - loss: 2.5002 - classification_loss: 2.1245 - accuracy: 0.4330 - hard_accuracy: 0.0177 - mse_loss: 0.9069 - mse_loss_hard: 0.0094 - mae_loss: 0.8366 - mae_loss_hard: 0.0078 - regression_loss: 0.9069 - regression_loss_hard: 0.00940.000133093461\n",
            " 3400/20000 [====>.........................] - ETA: 1:25:27 - loss: 2.4890 - classification_loss: 2.1167 - accuracy: 0.4357 - hard_accuracy: 0.0181 - mse_loss: 0.9011 - mse_loss_hard: 0.0094 - mae_loss: 0.8336 - mae_loss_hard: 0.0079 - regression_loss: 0.9011 - regression_loss_hard: 0.00940.000137127819\n",
            " 3500/20000 [====>.........................] - ETA: 1:24:43 - loss: 2.4783 - classification_loss: 2.1094 - accuracy: 0.4382 - hard_accuracy: 0.0185 - mse_loss: 0.8947 - mse_loss_hard: 0.0095 - mae_loss: 0.8302 - mae_loss_hard: 0.0079 - regression_loss: 0.8947 - regression_loss_hard: 0.00950.000141162178\n",
            " 3600/20000 [====>.........................] - ETA: 1:23:58 - loss: 2.4679 - classification_loss: 2.1025 - accuracy: 0.4406 - hard_accuracy: 0.0190 - mse_loss: 0.8873 - mse_loss_hard: 0.0095 - mae_loss: 0.8262 - mae_loss_hard: 0.0080 - regression_loss: 0.8873 - regression_loss_hard: 0.00950.000145196522\n",
            " 3700/20000 [====>.........................] - ETA: 1:23:14 - loss: 2.4580 - classification_loss: 2.0960 - accuracy: 0.4430 - hard_accuracy: 0.0194 - mse_loss: 0.8789 - mse_loss_hard: 0.0095 - mae_loss: 0.8214 - mae_loss_hard: 0.0081 - regression_loss: 0.8789 - regression_loss_hard: 0.00950.00014923088\n",
            " 3800/20000 [====>.........................] - ETA: 1:22:31 - loss: 2.4483 - classification_loss: 2.0893 - accuracy: 0.4453 - hard_accuracy: 0.0198 - mse_loss: 0.8721 - mse_loss_hard: 0.0095 - mae_loss: 0.8175 - mae_loss_hard: 0.0081 - regression_loss: 0.8721 - regression_loss_hard: 0.00950.000153265253\n",
            " 3900/20000 [====>.........................] - ETA: 1:21:49 - loss: 2.4391 - classification_loss: 2.0833 - accuracy: 0.4475 - hard_accuracy: 0.0202 - mse_loss: 0.8663 - mse_loss_hard: 0.0096 - mae_loss: 0.8142 - mae_loss_hard: 0.0082 - regression_loss: 0.8663 - regression_loss_hard: 0.00960.000157299612\n",
            " 3917/20000 [====>.........................] - ETA: 1:21:42 - loss: 2.4375 - classification_loss: 2.0822 - accuracy: 0.4478 - hard_accuracy: 0.0203 - mse_loss: 0.8655 - mse_loss_hard: 0.0095 - mae_loss: 0.8139 - mae_loss_hard: 0.0082 - regression_loss: 0.8655 - regression_loss_hard: 0.00952023-09-24 20:53:01.310795: I tensorflow/core/kernels/data/shuffle_dataset_op.cc:422] Filling up shuffle buffer (this may take a while): 9680 of 50000\n",
            " 3948/20000 [====>.........................] - ETA: 1:21:31 - loss: 2.4347 - classification_loss: 2.0803 - accuracy: 0.4485 - hard_accuracy: 0.0204 - mse_loss: 0.8640 - mse_loss_hard: 0.0095 - mae_loss: 0.8130 - mae_loss_hard: 0.0082 - regression_loss: 0.8640 - regression_loss_hard: 0.00952023-09-24 20:53:11.311784: I tensorflow/core/kernels/data/shuffle_dataset_op.cc:422] Filling up shuffle buffer (this may take a while): 19898 of 50000\n",
            "2023-09-24 20:53:20.273900: I tensorflow/core/kernels/data/shuffle_dataset_op.cc:450] Shuffle buffer filled.\n",
            " 4000/20000 [=====>........................] - ETA: 1:21:50 - loss: 2.4301 - classification_loss: 2.0768 - accuracy: 0.4496 - hard_accuracy: 0.0207 - mse_loss: 0.8612 - mse_loss_hard: 0.0096 - mae_loss: 0.8115 - mae_loss_hard: 0.0082 - regression_loss: 0.8612 - regression_loss_hard: 0.00960.00016133397\n",
            " 4100/20000 [=====>........................] - ETA: 1:21:09 - loss: 2.4214 - classification_loss: 2.0708 - accuracy: 0.4517 - hard_accuracy: 0.0211 - mse_loss: 0.8551 - mse_loss_hard: 0.0096 - mae_loss: 0.8080 - mae_loss_hard: 0.0083 - regression_loss: 0.8551 - regression_loss_hard: 0.00960.000159413612\n",
            " 4200/20000 [=====>........................] - ETA: 1:20:27 - loss: 2.4130 - classification_loss: 2.0649 - accuracy: 0.4537 - hard_accuracy: 0.0214 - mse_loss: 0.8501 - mse_loss_hard: 0.0096 - mae_loss: 0.8052 - mae_loss_hard: 0.0083 - regression_loss: 0.8501 - regression_loss_hard: 0.00960.000157503935\n",
            " 4300/20000 [=====>........................] - ETA: 1:19:46 - loss: 2.4048 - classification_loss: 2.0594 - accuracy: 0.4556 - hard_accuracy: 0.0216 - mse_loss: 0.8450 - mse_loss_hard: 0.0096 - mae_loss: 0.8023 - mae_loss_hard: 0.0083 - regression_loss: 0.8450 - regression_loss_hard: 0.00960.000155661299\n",
            " 4400/20000 [=====>........................] - ETA: 1:19:06 - loss: 2.3969 - classification_loss: 2.0537 - accuracy: 0.4575 - hard_accuracy: 0.0221 - mse_loss: 0.8403 - mse_loss_hard: 0.0096 - mae_loss: 0.7996 - mae_loss_hard: 0.0084 - regression_loss: 0.8403 - regression_loss_hard: 0.00960.000153881832\n",
            " 4500/20000 [=====>........................] - ETA: 1:18:26 - loss: 2.3892 - classification_loss: 2.0484 - accuracy: 0.4594 - hard_accuracy: 0.0223 - mse_loss: 0.8363 - mse_loss_hard: 0.0097 - mae_loss: 0.7975 - mae_loss_hard: 0.0084 - regression_loss: 0.8363 - regression_loss_hard: 0.00970.000152162058\n",
            " 4511/20000 [=====>........................] - ETA: 1:18:22 - loss: 2.3884 - classification_loss: 2.0479 - accuracy: 0.4596 - hard_accuracy: 0.0223 - mse_loss: 0.8357 - mse_loss_hard: 0.0097 - mae_loss: 0.7972 - mae_loss_hard: 0.0085 - regression_loss: 0.8357 - regression_loss_hard: 0.00972023-09-24 20:55:56.920814: I tensorflow/core/kernels/data/shuffle_dataset_op.cc:422] Filling up shuffle buffer (this may take a while): 10613 of 50000\n",
            " 4545/20000 [=====>........................] - ETA: 1:18:10 - loss: 2.3858 - classification_loss: 2.0463 - accuracy: 0.4602 - hard_accuracy: 0.0225 - mse_loss: 0.8341 - mse_loss_hard: 0.0097 - mae_loss: 0.7962 - mae_loss_hard: 0.0085 - regression_loss: 0.8341 - regression_loss_hard: 0.00972023-09-24 20:56:06.920705: I tensorflow/core/kernels/data/shuffle_dataset_op.cc:422] Filling up shuffle buffer (this may take a while): 19320 of 50000\n",
            " 4580/20000 [=====>........................] - ETA: 1:17:58 - loss: 2.3832 - classification_loss: 2.0446 - accuracy: 0.4608 - hard_accuracy: 0.0226 - mse_loss: 0.8327 - mse_loss_hard: 0.0097 - mae_loss: 0.7954 - mae_loss_hard: 0.0085 - regression_loss: 0.8327 - regression_loss_hard: 0.00972023-09-24 20:56:16.922741: I tensorflow/core/kernels/data/shuffle_dataset_op.cc:422] Filling up shuffle buffer (this may take a while): 28926 of 50000\n",
            " 4595/20000 [=====>........................] - ETA: 1:17:53 - loss: 2.3821 - classification_loss: 2.0439 - accuracy: 0.4611 - hard_accuracy: 0.0226 - mse_loss: 0.8322 - mse_loss_hard: 0.0097 - mae_loss: 0.7952 - mae_loss_hard: 0.0085 - regression_loss: 0.8322 - regression_loss_hard: 0.00972023-09-24 20:56:21.286683: I tensorflow/core/kernels/data/shuffle_dataset_op.cc:450] Shuffle buffer filled.\n",
            " 4600/20000 [=====>........................] - ETA: 1:17:51 - loss: 2.3817 - classification_loss: 2.0436 - accuracy: 0.4612 - hard_accuracy: 0.0226 - mse_loss: 0.8320 - mse_loss_hard: 0.0097 - mae_loss: 0.7951 - mae_loss_hard: 0.0085 - regression_loss: 0.8320 - regression_loss_hard: 0.00970.000150498658\n",
            " 4700/20000 [======>.......................] - ETA: 1:17:12 - loss: 2.3745 - classification_loss: 2.0385 - accuracy: 0.4630 - hard_accuracy: 0.0231 - mse_loss: 0.8284 - mse_loss_hard: 0.0098 - mae_loss: 0.7930 - mae_loss_hard: 0.0086 - regression_loss: 0.8284 - regression_loss_hard: 0.00980.000148888663\n",
            " 4800/20000 [======>.......................] - ETA: 1:16:33 - loss: 2.3674 - classification_loss: 2.0334 - accuracy: 0.4647 - hard_accuracy: 0.0236 - mse_loss: 0.8240 - mse_loss_hard: 0.0098 - mae_loss: 0.7906 - mae_loss_hard: 0.0086 - regression_loss: 0.8240 - regression_loss_hard: 0.00980.000147329265\n",
            " 4900/20000 [======>.......................] - ETA: 1:15:55 - loss: 2.3606 - classification_loss: 2.0283 - accuracy: 0.4663 - hard_accuracy: 0.0239 - mse_loss: 0.8203 - mse_loss_hard: 0.0098 - mae_loss: 0.7884 - mae_loss_hard: 0.0087 - regression_loss: 0.8203 - regression_loss_hard: 0.00980.00014581783\n",
            " 5000/20000 [======>.......................] - ETA: 1:15:17 - loss: 2.3539 - classification_loss: 2.0235 - accuracy: 0.4680 - hard_accuracy: 0.0243 - mse_loss: 0.8164 - mse_loss_hard: 0.0098 - mae_loss: 0.7862 - mae_loss_hard: 0.0087 - regression_loss: 0.8164 - regression_loss_hard: 0.00980.000144351987\n",
            " 5100/20000 [======>.......................] - ETA: 1:14:40 - loss: 2.3474 - classification_loss: 2.0187 - accuracy: 0.4695 - hard_accuracy: 0.0246 - mse_loss: 0.8129 - mse_loss_hard: 0.0099 - mae_loss: 0.7842 - mae_loss_hard: 0.0088 - regression_loss: 0.8129 - regression_loss_hard: 0.00990.000142929493\n",
            " 5167/20000 [======>.......................] - ETA: 1:14:17 - loss: 2.3431 - classification_loss: 2.0157 - accuracy: 0.4706 - hard_accuracy: 0.0247 - mse_loss: 0.8105 - mse_loss_hard: 0.0099 - mae_loss: 0.7828 - mae_loss_hard: 0.0088 - regression_loss: 0.8105 - regression_loss_hard: 0.00992023-09-24 20:59:00.274405: I tensorflow/core/kernels/data/shuffle_dataset_op.cc:422] Filling up shuffle buffer (this may take a while): 7591 of 50000\n",
            " 5200/20000 [======>.......................] - ETA: 1:14:05 - loss: 2.3410 - classification_loss: 2.0143 - accuracy: 0.4711 - hard_accuracy: 0.0248 - mse_loss: 0.8093 - mse_loss_hard: 0.0099 - mae_loss: 0.7822 - mae_loss_hard: 0.0088 - regression_loss: 0.8093 - regression_loss_hard: 0.00990.00014154824\n",
            " 5203/20000 [======>.......................] - ETA: 1:14:04 - loss: 2.3408 - classification_loss: 2.0141 - accuracy: 0.4712 - hard_accuracy: 0.0248 - mse_loss: 0.8091 - mse_loss_hard: 0.0099 - mae_loss: 0.7820 - mae_loss_hard: 0.0088 - regression_loss: 0.8091 - regression_loss_hard: 0.00992023-09-24 20:59:10.274779: I tensorflow/core/kernels/data/shuffle_dataset_op.cc:422] Filling up shuffle buffer (this may take a while): 18833 of 50000\n",
            " 5237/20000 [======>.......................] - ETA: 1:13:53 - loss: 2.3387 - classification_loss: 2.0125 - accuracy: 0.4717 - hard_accuracy: 0.0249 - mse_loss: 0.8080 - mse_loss_hard: 0.0098 - mae_loss: 0.7814 - mae_loss_hard: 0.0088 - regression_loss: 0.8080 - regression_loss_hard: 0.00982023-09-24 20:59:20.279214: I tensorflow/core/kernels/data/shuffle_dataset_op.cc:422] Filling up shuffle buffer (this may take a while): 27096 of 50000\n",
            " 5255/20000 [======>.......................] - ETA: 1:13:47 - loss: 2.3376 - classification_loss: 2.0118 - accuracy: 0.4719 - hard_accuracy: 0.0249 - mse_loss: 0.8073 - mse_loss_hard: 0.0098 - mae_loss: 0.7810 - mae_loss_hard: 0.0088 - regression_loss: 0.8073 - regression_loss_hard: 0.00982023-09-24 20:59:25.304943: I tensorflow/core/kernels/data/shuffle_dataset_op.cc:450] Shuffle buffer filled.\n",
            " 5300/20000 [======>.......................] - ETA: 1:13:30 - loss: 2.3348 - classification_loss: 2.0099 - accuracy: 0.4726 - hard_accuracy: 0.0250 - mse_loss: 0.8053 - mse_loss_hard: 0.0098 - mae_loss: 0.7799 - mae_loss_hard: 0.0088 - regression_loss: 0.8053 - regression_loss_hard: 0.00980.000140206263\n",
            " 5400/20000 [=======>......................] - ETA: 1:12:54 - loss: 2.3287 - classification_loss: 2.0055 - accuracy: 0.4741 - hard_accuracy: 0.0254 - mse_loss: 0.8021 - mse_loss_hard: 0.0099 - mae_loss: 0.7781 - mae_loss_hard: 0.0088 - regression_loss: 0.8021 - regression_loss_hard: 0.00990.000138901742\n",
            " 5500/20000 [=======>......................] - ETA: 1:12:18 - loss: 2.3228 - classification_loss: 2.0012 - accuracy: 0.4756 - hard_accuracy: 0.0257 - mse_loss: 0.7992 - mse_loss_hard: 0.0099 - mae_loss: 0.7764 - mae_loss_hard: 0.0088 - regression_loss: 0.7992 - regression_loss_hard: 0.00990.000137632975\n",
            " 5600/20000 [=======>......................] - ETA: 1:11:42 - loss: 2.3170 - classification_loss: 1.9970 - accuracy: 0.4770 - hard_accuracy: 0.0260 - mse_loss: 0.7966 - mse_loss_hard: 0.0099 - mae_loss: 0.7749 - mae_loss_hard: 0.0089 - regression_loss: 0.7966 - regression_loss_hard: 0.00990.000136398347\n",
            " 5700/20000 [=======>......................] - ETA: 1:11:07 - loss: 2.3114 - classification_loss: 1.9929 - accuracy: 0.4784 - hard_accuracy: 0.0262 - mse_loss: 0.7944 - mse_loss_hard: 0.0098 - mae_loss: 0.7737 - mae_loss_hard: 0.0089 - regression_loss: 0.7944 - regression_loss_hard: 0.00980.000135196373\n",
            " 5800/20000 [=======>......................] - ETA: 1:10:33 - loss: 2.3059 - classification_loss: 1.9888 - accuracy: 0.4797 - hard_accuracy: 0.0265 - mse_loss: 0.7914 - mse_loss_hard: 0.0098 - mae_loss: 0.7719 - mae_loss_hard: 0.0089 - regression_loss: 0.7914 - regression_loss_hard: 0.00980.000134025613\n",
            " 5825/20000 [=======>......................] - ETA: 1:10:25 - loss: 2.3045 - classification_loss: 1.9879 - accuracy: 0.4801 - hard_accuracy: 0.0266 - mse_loss: 0.7905 - mse_loss_hard: 0.0098 - mae_loss: 0.7713 - mae_loss_hard: 0.0089 - regression_loss: 0.7905 - regression_loss_hard: 0.00982023-09-24 21:02:03.781337: I tensorflow/core/kernels/data/shuffle_dataset_op.cc:422] Filling up shuffle buffer (this may take a while): 9184 of 50000\n",
            " 5858/20000 [=======>......................] - ETA: 1:10:15 - loss: 2.3027 - classification_loss: 1.9865 - accuracy: 0.4805 - hard_accuracy: 0.0268 - mse_loss: 0.7894 - mse_loss_hard: 0.0098 - mae_loss: 0.7707 - mae_loss_hard: 0.0089 - regression_loss: 0.7894 - regression_loss_hard: 0.00982023-09-24 21:02:13.780843: I tensorflow/core/kernels/data/shuffle_dataset_op.cc:422] Filling up shuffle buffer (this may take a while): 17896 of 50000\n",
            " 5894/20000 [=======>......................] - ETA: 1:10:03 - loss: 2.3008 - classification_loss: 1.9850 - accuracy: 0.4810 - hard_accuracy: 0.0269 - mse_loss: 0.7884 - mse_loss_hard: 0.0098 - mae_loss: 0.7701 - mae_loss_hard: 0.0089 - regression_loss: 0.7884 - regression_loss_hard: 0.00982023-09-24 21:02:23.781950: I tensorflow/core/kernels/data/shuffle_dataset_op.cc:422] Filling up shuffle buffer (this may take a while): 28848 of 50000\n",
            " 5900/20000 [=======>......................] - ETA: 1:10:02 - loss: 2.3004 - classification_loss: 1.9848 - accuracy: 0.4811 - hard_accuracy: 0.0270 - mse_loss: 0.7883 - mse_loss_hard: 0.0098 - mae_loss: 0.7700 - mae_loss_hard: 0.0089 - regression_loss: 0.7883 - regression_loss_hard: 0.00980.000132884757\n",
            " 5912/20000 [=======>......................] - ETA: 1:09:58 - loss: 2.2998 - classification_loss: 1.9843 - accuracy: 0.4812 - hard_accuracy: 0.0270 - mse_loss: 0.7880 - mse_loss_hard: 0.0098 - mae_loss: 0.7699 - mae_loss_hard: 0.0089 - regression_loss: 0.7880 - regression_loss_hard: 0.00982023-09-24 21:02:29.303359: I tensorflow/core/kernels/data/shuffle_dataset_op.cc:450] Shuffle buffer filled.\n",
            " 6000/20000 [========>.....................] - ETA: 1:09:27 - loss: 2.2952 - classification_loss: 1.9807 - accuracy: 0.4824 - hard_accuracy: 0.0273 - mse_loss: 0.7848 - mse_loss_hard: 0.0098 - mae_loss: 0.7680 - mae_loss_hard: 0.0089 - regression_loss: 0.7848 - regression_loss_hard: 0.00980.00013177254\n",
            " 6100/20000 [========>.....................] - ETA: 1:08:53 - loss: 2.2900 - classification_loss: 1.9769 - accuracy: 0.4837 - hard_accuracy: 0.0277 - mse_loss: 0.7811 - mse_loss_hard: 0.0098 - mae_loss: 0.7658 - mae_loss_hard: 0.0090 - regression_loss: 0.7811 - regression_loss_hard: 0.00980.000130687797\n",
            " 6200/20000 [========>.....................] - ETA: 1:08:19 - loss: 2.2849 - classification_loss: 1.9730 - accuracy: 0.4849 - hard_accuracy: 0.0279 - mse_loss: 0.7773 - mse_loss_hard: 0.0098 - mae_loss: 0.7635 - mae_loss_hard: 0.0090 - regression_loss: 0.7773 - regression_loss_hard: 0.00980.000129629407\n",
            " 6300/20000 [========>.....................] - ETA: 1:07:45 - loss: 2.2799 - classification_loss: 1.9693 - accuracy: 0.4862 - hard_accuracy: 0.0282 - mse_loss: 0.7745 - mse_loss_hard: 0.0098 - mae_loss: 0.7618 - mae_loss_hard: 0.0090 - regression_loss: 0.7745 - regression_loss_hard: 0.00980.000128596323\n",
            " 6400/20000 [========>.....................] - ETA: 1:07:12 - loss: 2.2750 - classification_loss: 1.9658 - accuracy: 0.4874 - hard_accuracy: 0.0286 - mse_loss: 0.7712 - mse_loss_hard: 0.0098 - mae_loss: 0.7599 - mae_loss_hard: 0.0090 - regression_loss: 0.7712 - regression_loss_hard: 0.00980.000127587555\n",
            " 6485/20000 [========>.....................] - ETA: 1:06:43 - loss: 2.2709 - classification_loss: 1.9630 - accuracy: 0.4884 - hard_accuracy: 0.0288 - mse_loss: 0.7687 - mse_loss_hard: 0.0098 - mae_loss: 0.7584 - mae_loss_hard: 0.0090 - regression_loss: 0.7687 - regression_loss_hard: 0.00982023-09-24 21:05:08.428634: I tensorflow/core/kernels/data/shuffle_dataset_op.cc:422] Filling up shuffle buffer (this may take a while): 9125 of 50000\n",
            " 6500/20000 [========>.....................] - ETA: 1:06:39 - loss: 2.2702 - classification_loss: 1.9625 - accuracy: 0.4886 - hard_accuracy: 0.0289 - mse_loss: 0.7682 - mse_loss_hard: 0.0098 - mae_loss: 0.7581 - mae_loss_hard: 0.0090 - regression_loss: 0.7682 - regression_loss_hard: 0.00980.000126602157\n",
            " 6519/20000 [========>.....................] - ETA: 1:06:33 - loss: 2.2693 - classification_loss: 1.9618 - accuracy: 0.4888 - hard_accuracy: 0.0289 - mse_loss: 0.7677 - mse_loss_hard: 0.0098 - mae_loss: 0.7578 - mae_loss_hard: 0.0090 - regression_loss: 0.7677 - regression_loss_hard: 0.00982023-09-24 21:05:18.431560: I tensorflow/core/kernels/data/shuffle_dataset_op.cc:422] Filling up shuffle buffer (this may take a while): 18841 of 50000\n",
            " 6553/20000 [========>.....................] - ETA: 1:06:23 - loss: 2.2677 - classification_loss: 1.9607 - accuracy: 0.4892 - hard_accuracy: 0.0289 - mse_loss: 0.7668 - mse_loss_hard: 0.0098 - mae_loss: 0.7573 - mae_loss_hard: 0.0090 - regression_loss: 0.7668 - regression_loss_hard: 0.00982023-09-24 21:05:28.427746: I tensorflow/core/kernels/data/shuffle_dataset_op.cc:422] Filling up shuffle buffer (this may take a while): 27052 of 50000\n",
            " 6571/20000 [========>.....................] - ETA: 1:06:17 - loss: 2.2669 - classification_loss: 1.9601 - accuracy: 0.4894 - hard_accuracy: 0.0289 - mse_loss: 0.7663 - mse_loss_hard: 0.0097 - mae_loss: 0.7570 - mae_loss_hard: 0.0090 - regression_loss: 0.7663 - regression_loss_hard: 0.00972023-09-24 21:05:33.701582: I tensorflow/core/kernels/data/shuffle_dataset_op.cc:450] Shuffle buffer filled.\n",
            " 6600/20000 [========>.....................] - ETA: 1:06:07 - loss: 2.2655 - classification_loss: 1.9590 - accuracy: 0.4897 - hard_accuracy: 0.0291 - mse_loss: 0.7656 - mse_loss_hard: 0.0098 - mae_loss: 0.7566 - mae_loss_hard: 0.0091 - regression_loss: 0.7656 - regression_loss_hard: 0.00980.000125639228\n",
            " 6700/20000 [=========>....................] - ETA: 1:05:33 - loss: 2.2609 - classification_loss: 1.9554 - accuracy: 0.4909 - hard_accuracy: 0.0293 - mse_loss: 0.7638 - mse_loss_hard: 0.0098 - mae_loss: 0.7556 - mae_loss_hard: 0.0091 - regression_loss: 0.7638 - regression_loss_hard: 0.00980.000124697966\n",
            " 6800/20000 [=========>....................] - ETA: 1:05:00 - loss: 2.2564 - classification_loss: 1.9520 - accuracy: 0.4920 - hard_accuracy: 0.0296 - mse_loss: 0.7615 - mse_loss_hard: 0.0097 - mae_loss: 0.7543 - mae_loss_hard: 0.0091 - regression_loss: 0.7615 - regression_loss_hard: 0.00970.000123777543\n",
            " 6900/20000 [=========>....................] - ETA: 1:04:27 - loss: 2.2520 - classification_loss: 1.9488 - accuracy: 0.4931 - hard_accuracy: 0.0299 - mse_loss: 0.7598 - mse_loss_hard: 0.0098 - mae_loss: 0.7533 - mae_loss_hard: 0.0092 - regression_loss: 0.7598 - regression_loss_hard: 0.00980.000122877187\n",
            " 7000/20000 [=========>....................] - ETA: 1:03:55 - loss: 2.2476 - classification_loss: 1.9455 - accuracy: 0.4942 - hard_accuracy: 0.0301 - mse_loss: 0.7575 - mse_loss_hard: 0.0098 - mae_loss: 0.7520 - mae_loss_hard: 0.0092 - regression_loss: 0.7575 - regression_loss_hard: 0.00980.000121996214\n",
            " 7100/20000 [=========>....................] - ETA: 1:03:22 - loss: 2.2434 - classification_loss: 1.9423 - accuracy: 0.4953 - hard_accuracy: 0.0305 - mse_loss: 0.7554 - mse_loss_hard: 0.0098 - mae_loss: 0.7508 - mae_loss_hard: 0.0092 - regression_loss: 0.7554 - regression_loss_hard: 0.00980.000121133919\n",
            " 7141/20000 [=========>....................] - ETA: 1:03:10 - loss: 2.2416 - classification_loss: 1.9410 - accuracy: 0.4957 - hard_accuracy: 0.0306 - mse_loss: 0.7546 - mse_loss_hard: 0.0098 - mae_loss: 0.7503 - mae_loss_hard: 0.0092 - regression_loss: 0.7546 - regression_loss_hard: 0.00982023-09-24 21:08:12.184059: I tensorflow/core/kernels/data/shuffle_dataset_op.cc:422] Filling up shuffle buffer (this may take a while): 7770 of 50000\n",
            " 7177/20000 [=========>....................] - ETA: 1:02:58 - loss: 2.2401 - classification_loss: 1.9401 - accuracy: 0.4961 - hard_accuracy: 0.0307 - mse_loss: 0.7536 - mse_loss_hard: 0.0098 - mae_loss: 0.7498 - mae_loss_hard: 0.0092 - regression_loss: 0.7536 - regression_loss_hard: 0.00982023-09-24 21:08:22.184168: I tensorflow/core/kernels/data/shuffle_dataset_op.cc:422] Filling up shuffle buffer (this may take a while): 18259 of 50000\n",
            " 7200/20000 [=========>....................] - ETA: 1:02:52 - loss: 2.2392 - classification_loss: 1.9394 - accuracy: 0.4964 - hard_accuracy: 0.0308 - mse_loss: 0.7529 - mse_loss_hard: 0.0098 - mae_loss: 0.7493 - mae_loss_hard: 0.0092 - regression_loss: 0.7529 - regression_loss_hard: 0.00980.00012028966\n",
            " 7210/20000 [=========>....................] - ETA: 1:02:49 - loss: 2.2387 - classification_loss: 1.9391 - accuracy: 0.4965 - hard_accuracy: 0.0308 - mse_loss: 0.7527 - mse_loss_hard: 0.0098 - mae_loss: 0.7492 - mae_loss_hard: 0.0092 - regression_loss: 0.7527 - regression_loss_hard: 0.00982023-09-24 21:08:32.187518: I tensorflow/core/kernels/data/shuffle_dataset_op.cc:422] Filling up shuffle buffer (this may take a while): 26749 of 50000\n",
            " 7230/20000 [=========>....................] - ETA: 1:02:42 - loss: 2.2379 - classification_loss: 1.9385 - accuracy: 0.4967 - hard_accuracy: 0.0309 - mse_loss: 0.7523 - mse_loss_hard: 0.0098 - mae_loss: 0.7490 - mae_loss_hard: 0.0092 - regression_loss: 0.7523 - regression_loss_hard: 0.00982023-09-24 21:08:37.546717: I tensorflow/core/kernels/data/shuffle_dataset_op.cc:450] Shuffle buffer filled.\n",
            " 7300/20000 [=========>....................] - ETA: 1:02:19 - loss: 2.2350 - classification_loss: 1.9362 - accuracy: 0.4974 - hard_accuracy: 0.0310 - mse_loss: 0.7504 - mse_loss_hard: 0.0097 - mae_loss: 0.7478 - mae_loss_hard: 0.0092 - regression_loss: 0.7504 - regression_loss_hard: 0.00970.000119462791\n",
            " 7400/20000 [==========>...................] - ETA: 1:01:47 - loss: 2.2310 - classification_loss: 1.9329 - accuracy: 0.4984 - hard_accuracy: 0.0313 - mse_loss: 0.7481 - mse_loss_hard: 0.0097 - mae_loss: 0.7464 - mae_loss_hard: 0.0093 - regression_loss: 0.7481 - regression_loss_hard: 0.00970.000118652752\n",
            " 7500/20000 [==========>...................] - ETA: 1:01:15 - loss: 2.2270 - classification_loss: 1.9298 - accuracy: 0.4994 - hard_accuracy: 0.0317 - mse_loss: 0.7461 - mse_loss_hard: 0.0097 - mae_loss: 0.7453 - mae_loss_hard: 0.0093 - regression_loss: 0.7461 - regression_loss_hard: 0.00970.000117858981\n",
            " 7600/20000 [==========>...................] - ETA: 1:00:43 - loss: 2.2230 - classification_loss: 1.9270 - accuracy: 0.5004 - hard_accuracy: 0.0319 - mse_loss: 0.7440 - mse_loss_hard: 0.0097 - mae_loss: 0.7441 - mae_loss_hard: 0.0093 - regression_loss: 0.7440 - regression_loss_hard: 0.00970.000117080926\n",
            " 7700/20000 [==========>...................] - ETA: 1:00:10 - loss: 2.2192 - classification_loss: 1.9243 - accuracy: 0.5014 - hard_accuracy: 0.0321 - mse_loss: 0.7413 - mse_loss_hard: 0.0097 - mae_loss: 0.7425 - mae_loss_hard: 0.0093 - regression_loss: 0.7413 - regression_loss_hard: 0.00970.000116318071\n",
            " 7800/20000 [==========>...................] - ETA: 59:39 - loss: 2.2154 - classification_loss: 1.9215 - accuracy: 0.5023 - hard_accuracy: 0.0324 - mse_loss: 0.7395 - mse_loss_hard: 0.0097 - mae_loss: 0.7414 - mae_loss_hard: 0.0093 - regression_loss: 0.7395 - regression_loss_hard: 0.00970.000115569936\n",
            "2023-09-24 21:11:16.019735: I tensorflow/core/kernels/data/shuffle_dataset_op.cc:422] Filling up shuffle buffer (this may take a while): 8950 of 50000\n",
            " 7833/20000 [==========>...................] - ETA: 59:30 - loss: 2.2141 - classification_loss: 1.9206 - accuracy: 0.5027 - hard_accuracy: 0.0324 - mse_loss: 0.7387 - mse_loss_hard: 0.0097 - mae_loss: 0.7409 - mae_loss_hard: 0.0093 - regression_loss: 0.7387 - regression_loss_hard: 0.00972023-09-24 21:11:26.020677: I tensorflow/core/kernels/data/shuffle_dataset_op.cc:422] Filling up shuffle buffer (this may take a while): 16153 of 50000\n",
            " 7868/20000 [==========>...................] - ETA: 59:19 - loss: 2.2128 - classification_loss: 1.9197 - accuracy: 0.5030 - hard_accuracy: 0.0325 - mse_loss: 0.7378 - mse_loss_hard: 0.0097 - mae_loss: 0.7404 - mae_loss_hard: 0.0093 - regression_loss: 0.7378 - regression_loss_hard: 0.00972023-09-24 21:11:36.020680: I tensorflow/core/kernels/data/shuffle_dataset_op.cc:422] Filling up shuffle buffer (this may take a while): 25759 of 50000\n",
            " 7896/20000 [==========>...................] - ETA: 59:11 - loss: 2.2118 - classification_loss: 1.9189 - accuracy: 0.5033 - hard_accuracy: 0.0326 - mse_loss: 0.7370 - mse_loss_hard: 0.0097 - mae_loss: 0.7399 - mae_loss_hard: 0.0093 - regression_loss: 0.7370 - regression_loss_hard: 0.00972023-09-24 21:11:45.466757: I tensorflow/core/kernels/data/shuffle_dataset_op.cc:450] Shuffle buffer filled.\n",
            " 7900/20000 [==========>...................] - ETA: 59:12 - loss: 2.2116 - classification_loss: 1.9187 - accuracy: 0.5033 - hard_accuracy: 0.0326 - mse_loss: 0.7369 - mse_loss_hard: 0.0097 - mae_loss: 0.7398 - mae_loss_hard: 0.0093 - regression_loss: 0.7369 - regression_loss_hard: 0.00970.000114836068\n",
            " 7950/20000 [==========>...................] - ETA: 58:56 - loss: 2.2098 - classification_loss: 1.9172 - accuracy: 0.5038 - hard_accuracy: 0.0328 - mse_loss: 0.7358 - mse_loss_hard: 0.0096 - mae_loss: 0.7391 - mae_loss_hard: 0.0093 - regression_loss: 0.7358 - regression_loss_hard: 0.0096\n",
            "Aborted!\n",
            "\u001b[34m\u001b[1mwandb\u001b[0m: Waiting for W&B process to finish... \u001b[31m(failed 1).\u001b[0m Press Control-C to abort syncing.\n",
            "\u001b[34m\u001b[1mwandb\u001b[0m: \n",
            "\u001b[34m\u001b[1mwandb\u001b[0m: Run history:\n",
            "\u001b[34m\u001b[1mwandb\u001b[0m:             epoch ▁▁\n",
            "\u001b[34m\u001b[1mwandb\u001b[0m: regression_lambda ▁\n",
            "\u001b[34m\u001b[1mwandb\u001b[0m: \n",
            "\u001b[34m\u001b[1mwandb\u001b[0m: Run summary:\n",
            "\u001b[34m\u001b[1mwandb\u001b[0m:             epoch 0\n",
            "\u001b[34m\u001b[1mwandb\u001b[0m: regression_lambda 0.0\n",
            "\u001b[34m\u001b[1mwandb\u001b[0m: \n",
            "\u001b[34m\u001b[1mwandb\u001b[0m: 🚀 View run \u001b[33mazure-firebrand-11\u001b[0m at: \u001b[34m\u001b[4mhttps://wandb.ai/pushpdeep/symbolic-pred/runs/3c80mbe7\u001b[0m\n",
            "\u001b[34m\u001b[1mwandb\u001b[0m: Synced 5 W&B file(s), 1 media file(s), 0 artifact file(s) and 0 other file(s)\n",
            "\u001b[34m\u001b[1mwandb\u001b[0m: Find logs at: \u001b[35m\u001b[1m./wandb/run-20230924_203216-3c80mbe7/logs\u001b[0m\n"
          ]
        }
      ]
    }
  ]
}